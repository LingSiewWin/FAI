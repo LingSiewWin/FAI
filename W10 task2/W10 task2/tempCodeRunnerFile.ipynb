# Cell 9: Model Explainability with SHAP
logger.info("Generating SHAP explanations...")

# Load X_test and feature_names if not already in memory
try:
    X_test
except NameError:
    logger.info("X_test not found, loading from disk...")
    X_test = pd.read_csv(os.path.join(output_dir, 'X_test.csv'))

try:
    feature_names
except NameError:
    logger.info("feature_names not found, loading from disk...")
    feature_names = pd.read_csv(os.path.join(output_dir, 'feature_names.csv')).values.flatten().tolist()

# Load the SMOTE model if models dictionary is not available
try:
    model = models['SMOTE'].named_steps['classifier']
    X_test_transformed = models['SMOTE'].named_steps['preprocessor'].transform(X_test)
except NameError:
    logger.info("Models dictionary not found, loading SMOTE model from disk...")
    smote_model = joblib.load(os.path.join(output_dir, 'smote_model.pkl'))
    model = smote_model.named_steps['classifier']
    X_test_transformed = smote_model.named_steps['preprocessor'].transform(X_test)

# Explain predictions
explainer = shap.TreeExplainer(model)
shap_values = explainer.shap_values(X_test_transformed)

# Summary plot
shap.summary_plot(shap_values[1], X_test_transformed, feature_names=feature_names, show=False)
plt.savefig(os.path.join(output_dir, 'shap_summary.png'))
plt.show()

# Explanation for a single prediction
shap.initjs()
shap.force_plot(explainer.expected_value[1], shap_values[1][0], X_test_transformed[0], feature_names=feature_names)